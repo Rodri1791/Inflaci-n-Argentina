{
 "cells": [
  {
   "cell_type": "code",
   "execution_count": 1,
   "metadata": {},
   "outputs": [],
   "source": [
    "# Librerías\n",
    "from statsmodels.tsa.stattools import adfuller\n",
    "import pandas as pd\n",
    "import numpy as np\n",
    "import plotly_express as px\n",
    "from statsmodels.tsa.arima.model import ARIMA\n",
    "from sklearn.metrics import mean_squared_error\n",
    "from math import sqrt\n",
    "import matplotlib.pyplot as plt\n",
    "import pmdarima as pm\n",
    "import warnings"
   ]
  },
  {
   "cell_type": "code",
   "execution_count": 2,
   "metadata": {},
   "outputs": [],
   "source": [
    "# Cargamos el dataset con todos los datos de inflacion desde el 2005\n",
    "ipc = pd.read_csv(r\"IPC.csv\",sep=\";\")"
   ]
  },
  {
   "cell_type": "code",
   "execution_count": 3,
   "metadata": {},
   "outputs": [
    {
     "data": {
      "text/html": [
       "<div>\n",
       "<style scoped>\n",
       "    .dataframe tbody tr th:only-of-type {\n",
       "        vertical-align: middle;\n",
       "    }\n",
       "\n",
       "    .dataframe tbody tr th {\n",
       "        vertical-align: top;\n",
       "    }\n",
       "\n",
       "    .dataframe thead th {\n",
       "        text-align: right;\n",
       "    }\n",
       "</style>\n",
       "<table border=\"1\" class=\"dataframe\">\n",
       "  <thead>\n",
       "    <tr style=\"text-align: right;\">\n",
       "      <th></th>\n",
       "      <th>Periodo</th>\n",
       "      <th>Nacional</th>\n",
       "      <th>GBA</th>\n",
       "      <th>Pampeana</th>\n",
       "      <th>Noroeste</th>\n",
       "      <th>Noreste</th>\n",
       "      <th>Cuyo</th>\n",
       "      <th>Patagonia</th>\n",
       "      <th>REM Nacional</th>\n",
       "    </tr>\n",
       "  </thead>\n",
       "  <tbody>\n",
       "    <tr>\n",
       "      <th>0</th>\n",
       "      <td>01-12-22</td>\n",
       "      <td>0.051</td>\n",
       "      <td>0.053</td>\n",
       "      <td>0.051</td>\n",
       "      <td>0.047</td>\n",
       "      <td>0.048</td>\n",
       "      <td>0.050</td>\n",
       "      <td>0.045</td>\n",
       "      <td>0.055</td>\n",
       "    </tr>\n",
       "    <tr>\n",
       "      <th>1</th>\n",
       "      <td>01-11-22</td>\n",
       "      <td>0.049</td>\n",
       "      <td>0.050</td>\n",
       "      <td>0.049</td>\n",
       "      <td>0.046</td>\n",
       "      <td>0.045</td>\n",
       "      <td>0.049</td>\n",
       "      <td>0.049</td>\n",
       "      <td>0.061</td>\n",
       "    </tr>\n",
       "    <tr>\n",
       "      <th>2</th>\n",
       "      <td>01-10-22</td>\n",
       "      <td>0.063</td>\n",
       "      <td>0.066</td>\n",
       "      <td>0.061</td>\n",
       "      <td>0.063</td>\n",
       "      <td>0.062</td>\n",
       "      <td>0.060</td>\n",
       "      <td>0.066</td>\n",
       "      <td>0.065</td>\n",
       "    </tr>\n",
       "    <tr>\n",
       "      <th>3</th>\n",
       "      <td>01-09-22</td>\n",
       "      <td>0.062</td>\n",
       "      <td>0.060</td>\n",
       "      <td>0.063</td>\n",
       "      <td>0.061</td>\n",
       "      <td>0.068</td>\n",
       "      <td>0.061</td>\n",
       "      <td>0.061</td>\n",
       "      <td>0.067</td>\n",
       "    </tr>\n",
       "    <tr>\n",
       "      <th>4</th>\n",
       "      <td>01-08-22</td>\n",
       "      <td>0.070</td>\n",
       "      <td>0.070</td>\n",
       "      <td>0.069</td>\n",
       "      <td>0.076</td>\n",
       "      <td>0.076</td>\n",
       "      <td>0.065</td>\n",
       "      <td>0.064</td>\n",
       "      <td>0.065</td>\n",
       "    </tr>\n",
       "  </tbody>\n",
       "</table>\n",
       "</div>"
      ],
      "text/plain": [
       "    Periodo   Nacional    GBA    Pampeana    Noroeste    Noreste    Cuyo   \\\n",
       "0  01-12-22       0.051  0.053       0.051       0.047      0.048   0.050   \n",
       "1  01-11-22       0.049  0.050       0.049       0.046      0.045   0.049   \n",
       "2  01-10-22       0.063  0.066       0.061       0.063      0.062   0.060   \n",
       "3  01-09-22       0.062  0.060       0.063       0.061      0.068   0.061   \n",
       "4  01-08-22       0.070  0.070       0.069       0.076      0.076   0.065   \n",
       "\n",
       "    Patagonia    REM Nacional   \n",
       "0        0.045           0.055  \n",
       "1        0.049           0.061  \n",
       "2        0.066           0.065  \n",
       "3        0.061           0.067  \n",
       "4        0.064           0.065  "
      ]
     },
     "execution_count": 3,
     "metadata": {},
     "output_type": "execute_result"
    }
   ],
   "source": [
    "# Vemos el dataset\n",
    "ipc.head()"
   ]
  },
  {
   "cell_type": "code",
   "execution_count": 4,
   "metadata": {},
   "outputs": [],
   "source": [
    "# Nos quedamos con las columnas que nos sirven para el modelo\n",
    "ipc.drop(ipc.columns[2:],inplace=True, axis=1 )"
   ]
  },
  {
   "cell_type": "code",
   "execution_count": 5,
   "metadata": {},
   "outputs": [
    {
     "data": {
      "text/plain": [
       "Periodo       0\n",
       " Nacional     0\n",
       "dtype: int64"
      ]
     },
     "execution_count": 5,
     "metadata": {},
     "output_type": "execute_result"
    }
   ],
   "source": [
    "# Comprobamos que no halla nulos\n",
    "ipc.isnull().sum()"
   ]
  },
  {
   "cell_type": "code",
   "execution_count": 6,
   "metadata": {},
   "outputs": [
    {
     "name": "stdout",
     "output_type": "stream",
     "text": [
      "<class 'pandas.core.frame.DataFrame'>\n",
      "RangeIndex: 217 entries, 0 to 216\n",
      "Data columns (total 2 columns):\n",
      " #   Column      Non-Null Count  Dtype  \n",
      "---  ------      --------------  -----  \n",
      " 0   Periodo     217 non-null    object \n",
      " 1    Nacional   217 non-null    float64\n",
      "dtypes: float64(1), object(1)\n",
      "memory usage: 3.5+ KB\n"
     ]
    }
   ],
   "source": [
    "# Vemos que tipo de variables hay\n",
    "ipc.info()"
   ]
  },
  {
   "cell_type": "code",
   "execution_count": 7,
   "metadata": {},
   "outputs": [],
   "source": [
    "# Cambiamos el tipo a datetime para poder aplicar el modelo\n",
    "ipc[\"Periodo\"] = pd.to_datetime(ipc[\"Periodo\"], format='%d-%m-%y')"
   ]
  },
  {
   "cell_type": "code",
   "execution_count": 8,
   "metadata": {},
   "outputs": [
    {
     "name": "stdout",
     "output_type": "stream",
     "text": [
      "<class 'pandas.core.frame.DataFrame'>\n",
      "RangeIndex: 217 entries, 0 to 216\n",
      "Data columns (total 2 columns):\n",
      " #   Column      Non-Null Count  Dtype         \n",
      "---  ------      --------------  -----         \n",
      " 0   Periodo     217 non-null    datetime64[ns]\n",
      " 1    Nacional   217 non-null    float64       \n",
      "dtypes: datetime64[ns](1), float64(1)\n",
      "memory usage: 3.5 KB\n"
     ]
    }
   ],
   "source": [
    "ipc.info() #Vemos el resultado"
   ]
  },
  {
   "cell_type": "code",
   "execution_count": 9,
   "metadata": {},
   "outputs": [],
   "source": [
    "# Colocamos como indice la variable de periodo en el cual tenemos las fechas\n",
    "ipc.set_index(\"Periodo\",inplace=True)"
   ]
  },
  {
   "cell_type": "code",
   "execution_count": 10,
   "metadata": {},
   "outputs": [],
   "source": [
    "# Multiplicamos por 100 para tener los datos en porcentaje\n",
    "ipc[\" Nacional \"] = ipc[\" Nacional \"]*100"
   ]
  },
  {
   "cell_type": "code",
   "execution_count": 11,
   "metadata": {},
   "outputs": [
    {
     "data": {
      "text/html": [
       "<div>\n",
       "<style scoped>\n",
       "    .dataframe tbody tr th:only-of-type {\n",
       "        vertical-align: middle;\n",
       "    }\n",
       "\n",
       "    .dataframe tbody tr th {\n",
       "        vertical-align: top;\n",
       "    }\n",
       "\n",
       "    .dataframe thead th {\n",
       "        text-align: right;\n",
       "    }\n",
       "</style>\n",
       "<table border=\"1\" class=\"dataframe\">\n",
       "  <thead>\n",
       "    <tr style=\"text-align: right;\">\n",
       "      <th></th>\n",
       "      <th>Nacional</th>\n",
       "    </tr>\n",
       "    <tr>\n",
       "      <th>Periodo</th>\n",
       "      <th></th>\n",
       "    </tr>\n",
       "  </thead>\n",
       "  <tbody>\n",
       "    <tr>\n",
       "      <th>2022-12-01</th>\n",
       "      <td>5.1</td>\n",
       "    </tr>\n",
       "    <tr>\n",
       "      <th>2022-11-01</th>\n",
       "      <td>4.9</td>\n",
       "    </tr>\n",
       "    <tr>\n",
       "      <th>2022-10-01</th>\n",
       "      <td>6.3</td>\n",
       "    </tr>\n",
       "    <tr>\n",
       "      <th>2022-09-01</th>\n",
       "      <td>6.2</td>\n",
       "    </tr>\n",
       "    <tr>\n",
       "      <th>2022-08-01</th>\n",
       "      <td>7.0</td>\n",
       "    </tr>\n",
       "  </tbody>\n",
       "</table>\n",
       "</div>"
      ],
      "text/plain": [
       "             Nacional \n",
       "Periodo               \n",
       "2022-12-01         5.1\n",
       "2022-11-01         4.9\n",
       "2022-10-01         6.3\n",
       "2022-09-01         6.2\n",
       "2022-08-01         7.0"
      ]
     },
     "execution_count": 11,
     "metadata": {},
     "output_type": "execute_result"
    }
   ],
   "source": [
    "ipc.head()"
   ]
  },
  {
   "cell_type": "code",
   "execution_count": 12,
   "metadata": {},
   "outputs": [
    {
     "name": "stdout",
     "output_type": "stream",
     "text": [
      "stat=-3.110, p=0.026\n",
      "Probablemente estacionaria\n"
     ]
    }
   ],
   "source": [
    "stat, p, lags, obs, crit, t = adfuller(ipc.values)\n",
    "print('stat=%.3f, p=%.3f' % (stat, p))\n",
    "if p > 0.05:\n",
    "\tprint('Probablemente no estacionaria')\n",
    "else:\n",
    "\tprint('Probablemente estacionaria')"
   ]
  },
  {
   "cell_type": "code",
   "execution_count": 12,
   "metadata": {},
   "outputs": [],
   "source": [
    "# Ordenamos por fecha el dataset para que se vean correctamente\n",
    "ipc = ipc.sort_index()"
   ]
  },
  {
   "cell_type": "code",
   "execution_count": 13,
   "metadata": {},
   "outputs": [],
   "source": [
    "ipc.to_csv(\"IPC2.csv\") # Guardamos el dataset con los arreglos"
   ]
  },
  {
   "cell_type": "code",
   "execution_count": 14,
   "metadata": {},
   "outputs": [
    {
     "data": {
      "application/vnd.plotly.v1+json": {
       "config": {
        "plotlyServerURL": "https://plot.ly"
       },
       "data": [
        {
         "hovertemplate": "=%{x}<br>IPC=%{y}<extra></extra>",
         "legendgroup": "",
         "line": {
          "color": "#636efa",
          "dash": "solid"
         },
         "marker": {
          "symbol": "circle"
         },
         "mode": "lines",
         "name": "",
         "orientation": "v",
         "showlegend": false,
         "type": "scatter",
         "x": [
          "2004-12-01T00:00:00",
          "2005-01-01T00:00:00",
          "2005-02-01T00:00:00",
          "2005-03-01T00:00:00",
          "2005-04-01T00:00:00",
          "2005-05-01T00:00:00",
          "2005-06-01T00:00:00",
          "2005-07-01T00:00:00",
          "2005-08-01T00:00:00",
          "2005-09-01T00:00:00",
          "2005-10-01T00:00:00",
          "2005-11-01T00:00:00",
          "2005-12-01T00:00:00",
          "2006-01-01T00:00:00",
          "2006-02-01T00:00:00",
          "2006-03-01T00:00:00",
          "2006-04-01T00:00:00",
          "2006-05-01T00:00:00",
          "2006-06-01T00:00:00",
          "2006-07-01T00:00:00",
          "2006-08-01T00:00:00",
          "2006-09-01T00:00:00",
          "2006-10-01T00:00:00",
          "2006-11-01T00:00:00",
          "2006-12-01T00:00:00",
          "2007-01-01T00:00:00",
          "2007-02-01T00:00:00",
          "2007-03-01T00:00:00",
          "2007-04-01T00:00:00",
          "2007-05-01T00:00:00",
          "2007-06-01T00:00:00",
          "2007-07-01T00:00:00",
          "2007-08-01T00:00:00",
          "2007-09-01T00:00:00",
          "2007-10-01T00:00:00",
          "2007-11-01T00:00:00",
          "2007-12-01T00:00:00",
          "2008-01-01T00:00:00",
          "2008-02-01T00:00:00",
          "2008-03-01T00:00:00",
          "2008-04-01T00:00:00",
          "2008-05-01T00:00:00",
          "2008-06-01T00:00:00",
          "2008-07-01T00:00:00",
          "2008-08-01T00:00:00",
          "2008-09-01T00:00:00",
          "2008-10-01T00:00:00",
          "2008-11-01T00:00:00",
          "2008-12-01T00:00:00",
          "2009-01-01T00:00:00",
          "2009-02-01T00:00:00",
          "2009-03-01T00:00:00",
          "2009-04-01T00:00:00",
          "2009-05-01T00:00:00",
          "2009-06-01T00:00:00",
          "2009-07-01T00:00:00",
          "2009-08-01T00:00:00",
          "2009-09-01T00:00:00",
          "2009-10-01T00:00:00",
          "2009-11-01T00:00:00",
          "2009-12-01T00:00:00",
          "2010-01-01T00:00:00",
          "2010-02-01T00:00:00",
          "2010-03-01T00:00:00",
          "2010-04-01T00:00:00",
          "2010-05-01T00:00:00",
          "2010-06-01T00:00:00",
          "2010-07-01T00:00:00",
          "2010-08-01T00:00:00",
          "2010-09-01T00:00:00",
          "2010-10-01T00:00:00",
          "2010-11-01T00:00:00",
          "2010-12-01T00:00:00",
          "2011-01-01T00:00:00",
          "2011-02-01T00:00:00",
          "2011-03-01T00:00:00",
          "2011-04-01T00:00:00",
          "2011-05-01T00:00:00",
          "2011-06-01T00:00:00",
          "2011-07-01T00:00:00",
          "2011-08-01T00:00:00",
          "2011-09-01T00:00:00",
          "2011-10-01T00:00:00",
          "2011-11-01T00:00:00",
          "2011-12-01T00:00:00",
          "2012-01-01T00:00:00",
          "2012-02-01T00:00:00",
          "2012-03-01T00:00:00",
          "2012-04-01T00:00:00",
          "2012-05-01T00:00:00",
          "2012-06-01T00:00:00",
          "2012-07-01T00:00:00",
          "2012-08-01T00:00:00",
          "2012-09-01T00:00:00",
          "2012-10-01T00:00:00",
          "2012-11-01T00:00:00",
          "2012-12-01T00:00:00",
          "2013-01-01T00:00:00",
          "2013-02-01T00:00:00",
          "2013-03-01T00:00:00",
          "2013-04-01T00:00:00",
          "2013-05-01T00:00:00",
          "2013-06-01T00:00:00",
          "2013-07-01T00:00:00",
          "2013-08-01T00:00:00",
          "2013-09-01T00:00:00",
          "2013-10-01T00:00:00",
          "2013-11-01T00:00:00",
          "2013-12-01T00:00:00",
          "2014-01-01T00:00:00",
          "2014-02-01T00:00:00",
          "2014-03-01T00:00:00",
          "2014-04-01T00:00:00",
          "2014-05-01T00:00:00",
          "2014-06-01T00:00:00",
          "2014-07-01T00:00:00",
          "2014-08-01T00:00:00",
          "2014-09-01T00:00:00",
          "2014-10-01T00:00:00",
          "2014-11-01T00:00:00",
          "2014-12-01T00:00:00",
          "2015-01-01T00:00:00",
          "2015-02-01T00:00:00",
          "2015-03-01T00:00:00",
          "2015-04-01T00:00:00",
          "2015-05-01T00:00:00",
          "2015-06-01T00:00:00",
          "2015-07-01T00:00:00",
          "2015-08-01T00:00:00",
          "2015-09-01T00:00:00",
          "2015-10-01T00:00:00",
          "2015-11-01T00:00:00",
          "2015-12-01T00:00:00",
          "2016-01-01T00:00:00",
          "2016-02-01T00:00:00",
          "2016-03-01T00:00:00",
          "2016-04-01T00:00:00",
          "2016-05-01T00:00:00",
          "2016-06-01T00:00:00",
          "2016-07-01T00:00:00",
          "2016-08-01T00:00:00",
          "2016-09-01T00:00:00",
          "2016-10-01T00:00:00",
          "2016-11-01T00:00:00",
          "2016-12-01T00:00:00",
          "2017-01-01T00:00:00",
          "2017-02-01T00:00:00",
          "2017-03-01T00:00:00",
          "2017-04-01T00:00:00",
          "2017-05-01T00:00:00",
          "2017-06-01T00:00:00",
          "2017-07-01T00:00:00",
          "2017-08-01T00:00:00",
          "2017-09-01T00:00:00",
          "2017-10-01T00:00:00",
          "2017-11-01T00:00:00",
          "2017-12-01T00:00:00",
          "2018-01-01T00:00:00",
          "2018-02-01T00:00:00",
          "2018-03-01T00:00:00",
          "2018-04-01T00:00:00",
          "2018-05-01T00:00:00",
          "2018-06-01T00:00:00",
          "2018-07-01T00:00:00",
          "2018-08-01T00:00:00",
          "2018-09-01T00:00:00",
          "2018-10-01T00:00:00",
          "2018-11-01T00:00:00",
          "2018-12-01T00:00:00",
          "2019-01-01T00:00:00",
          "2019-02-01T00:00:00",
          "2019-03-01T00:00:00",
          "2019-04-01T00:00:00",
          "2019-05-01T00:00:00",
          "2019-06-01T00:00:00",
          "2019-07-01T00:00:00",
          "2019-08-01T00:00:00",
          "2019-09-01T00:00:00",
          "2019-10-01T00:00:00",
          "2019-11-01T00:00:00",
          "2019-12-01T00:00:00",
          "2020-01-01T00:00:00",
          "2020-02-01T00:00:00",
          "2020-03-01T00:00:00",
          "2020-04-01T00:00:00",
          "2020-05-01T00:00:00",
          "2020-06-01T00:00:00",
          "2020-07-01T00:00:00",
          "2020-08-01T00:00:00",
          "2020-09-01T00:00:00",
          "2020-10-01T00:00:00",
          "2020-11-01T00:00:00",
          "2020-12-01T00:00:00",
          "2021-01-01T00:00:00",
          "2021-02-01T00:00:00",
          "2021-03-01T00:00:00",
          "2021-04-01T00:00:00",
          "2021-05-01T00:00:00",
          "2021-06-01T00:00:00",
          "2021-07-01T00:00:00",
          "2021-08-01T00:00:00",
          "2021-09-01T00:00:00",
          "2021-10-01T00:00:00",
          "2021-11-01T00:00:00",
          "2021-12-01T00:00:00",
          "2022-01-01T00:00:00",
          "2022-02-01T00:00:00",
          "2022-03-01T00:00:00",
          "2022-04-01T00:00:00",
          "2022-05-01T00:00:00",
          "2022-06-01T00:00:00",
          "2022-07-01T00:00:00",
          "2022-08-01T00:00:00",
          "2022-09-01T00:00:00",
          "2022-10-01T00:00:00",
          "2022-11-01T00:00:00",
          "2022-12-01T00:00:00"
         ],
         "xaxis": "x",
         "y": [
          0.8,
          1.5,
          0.8999999999999999,
          1.5,
          0.5,
          0.6,
          0.8999999999999999,
          1,
          0.4,
          1.2,
          0.8,
          1.2,
          1.0999999999999999,
          1.3,
          0.4,
          1.2,
          1,
          0.5,
          0.5,
          0.6,
          0.6,
          0.8999999999999999,
          0.8999999999999999,
          0.7000000000000001,
          1,
          1.0999999999999999,
          0.3,
          0.8,
          0.7000000000000001,
          0.4,
          0.4,
          0.5,
          0.6,
          0.8,
          0.7000000000000001,
          0.8999999999999999,
          0.8999999999999999,
          0.8999999999999999,
          0.5,
          1.0999999999999999,
          0.8,
          0.6,
          0.6,
          0.4,
          0.5,
          0.5,
          0.4,
          0.3,
          0.3,
          0.5,
          0.4,
          0.6,
          0.3,
          0.3,
          0.4,
          0.6,
          0.8,
          0.7000000000000001,
          0.8,
          0.8,
          0.8999999999999999,
          1,
          1.2,
          1.0999999999999999,
          0.8,
          0.7000000000000001,
          0.7000000000000001,
          0.8,
          0.7000000000000001,
          0.7000000000000001,
          0.8,
          0.7000000000000001,
          0.8,
          2.1,
          1.5,
          2.1,
          1.7999999999999998,
          1.3,
          1.6,
          1.7000000000000002,
          1.9,
          1.7999999999999998,
          1.5,
          1.5,
          1.9,
          1.7999999999999998,
          1.7999999999999998,
          2.3,
          2.1999999999999997,
          1.7999999999999998,
          1.6,
          1.7999999999999998,
          1.9,
          1.9,
          1.7000000000000002,
          1.7999999999999998,
          2,
          2.6,
          1.0999999999999999,
          1.5,
          1.4000000000000001,
          1.6,
          2.1999999999999997,
          2.6,
          2.1,
          2.1,
          2.1,
          2.4,
          3.3000000000000003,
          4.6,
          4.3,
          3.4000000000000004,
          2.6,
          2.3,
          2.1999999999999997,
          2.5,
          2.7,
          2.5,
          2.3,
          1.9,
          1.9,
          2.1,
          1.5,
          2.1,
          2,
          2,
          1.5,
          1.9,
          2.1999999999999997,
          1.9,
          1.5,
          2.1999999999999997,
          3.8,
          3.5999999999999996,
          4.8,
          3.2,
          6.7,
          3.5000000000000004,
          2.9000000000000004,
          2.4,
          0.5,
          0.8,
          2.9000000000000004,
          1.9,
          1.6,
          1.6,
          2.1,
          2.4,
          2.7,
          1.4000000000000001,
          1.2,
          1.7000000000000002,
          1.4000000000000001,
          1.9,
          1.5,
          1.4000000000000001,
          3.1,
          1.7999999999999998,
          2.4,
          2.3,
          2.7,
          2.1,
          3.6999999999999997,
          3.1,
          3.9,
          6.5,
          5.4,
          3.2,
          2.8000000000000003,
          2.9000000000000004,
          3.8,
          4.7,
          3.4000000000000004,
          3.1,
          2.7,
          2.1999999999999997,
          4,
          5.8999999999999995,
          3.3000000000000003,
          4.3,
          3.6999999999999997,
          2.3,
          2,
          3.3000000000000003,
          1.5,
          1.5,
          2.1999999999999997,
          1.9,
          2.7,
          2.8000000000000003,
          3.8,
          3.2,
          4,
          4,
          3.5999999999999996,
          4.8,
          4.1000000000000005,
          3.3000000000000003,
          3.2,
          3,
          2.5,
          3.5000000000000004,
          3.5000000000000004,
          2.5,
          3.8,
          3.9,
          4.7,
          6.7,
          6,
          5.1,
          5.3,
          7.3999999999999995,
          7.000000000000001,
          6.2,
          6.3,
          4.9,
          5.1
         ],
         "yaxis": "y"
        }
       ],
       "layout": {
        "annotations": [
         {
          "font": {
           "color": "rgb(150,150,150)",
           "family": "Arial",
           "size": 12
          },
          "showarrow": false,
          "text": "Fuente: INDEC",
          "x": 0.5,
          "xanchor": "center",
          "xref": "paper",
          "y": -0.1,
          "yanchor": "top",
          "yref": "paper"
         }
        ],
        "legend": {
         "tracegroupgap": 0
        },
        "margin": {
         "t": 60
        },
        "template": {
         "data": {
          "bar": [
           {
            "error_x": {
             "color": "#f2f5fa"
            },
            "error_y": {
             "color": "#f2f5fa"
            },
            "marker": {
             "line": {
              "color": "rgb(17,17,17)",
              "width": 0.5
             },
             "pattern": {
              "fillmode": "overlay",
              "size": 10,
              "solidity": 0.2
             }
            },
            "type": "bar"
           }
          ],
          "barpolar": [
           {
            "marker": {
             "line": {
              "color": "rgb(17,17,17)",
              "width": 0.5
             },
             "pattern": {
              "fillmode": "overlay",
              "size": 10,
              "solidity": 0.2
             }
            },
            "type": "barpolar"
           }
          ],
          "carpet": [
           {
            "aaxis": {
             "endlinecolor": "#A2B1C6",
             "gridcolor": "#506784",
             "linecolor": "#506784",
             "minorgridcolor": "#506784",
             "startlinecolor": "#A2B1C6"
            },
            "baxis": {
             "endlinecolor": "#A2B1C6",
             "gridcolor": "#506784",
             "linecolor": "#506784",
             "minorgridcolor": "#506784",
             "startlinecolor": "#A2B1C6"
            },
            "type": "carpet"
           }
          ],
          "choropleth": [
           {
            "colorbar": {
             "outlinewidth": 0,
             "ticks": ""
            },
            "type": "choropleth"
           }
          ],
          "contour": [
           {
            "colorbar": {
             "outlinewidth": 0,
             "ticks": ""
            },
            "colorscale": [
             [
              0,
              "#0d0887"
             ],
             [
              0.1111111111111111,
              "#46039f"
             ],
             [
              0.2222222222222222,
              "#7201a8"
             ],
             [
              0.3333333333333333,
              "#9c179e"
             ],
             [
              0.4444444444444444,
              "#bd3786"
             ],
             [
              0.5555555555555556,
              "#d8576b"
             ],
             [
              0.6666666666666666,
              "#ed7953"
             ],
             [
              0.7777777777777778,
              "#fb9f3a"
             ],
             [
              0.8888888888888888,
              "#fdca26"
             ],
             [
              1,
              "#f0f921"
             ]
            ],
            "type": "contour"
           }
          ],
          "contourcarpet": [
           {
            "colorbar": {
             "outlinewidth": 0,
             "ticks": ""
            },
            "type": "contourcarpet"
           }
          ],
          "heatmap": [
           {
            "colorbar": {
             "outlinewidth": 0,
             "ticks": ""
            },
            "colorscale": [
             [
              0,
              "#0d0887"
             ],
             [
              0.1111111111111111,
              "#46039f"
             ],
             [
              0.2222222222222222,
              "#7201a8"
             ],
             [
              0.3333333333333333,
              "#9c179e"
             ],
             [
              0.4444444444444444,
              "#bd3786"
             ],
             [
              0.5555555555555556,
              "#d8576b"
             ],
             [
              0.6666666666666666,
              "#ed7953"
             ],
             [
              0.7777777777777778,
              "#fb9f3a"
             ],
             [
              0.8888888888888888,
              "#fdca26"
             ],
             [
              1,
              "#f0f921"
             ]
            ],
            "type": "heatmap"
           }
          ],
          "heatmapgl": [
           {
            "colorbar": {
             "outlinewidth": 0,
             "ticks": ""
            },
            "colorscale": [
             [
              0,
              "#0d0887"
             ],
             [
              0.1111111111111111,
              "#46039f"
             ],
             [
              0.2222222222222222,
              "#7201a8"
             ],
             [
              0.3333333333333333,
              "#9c179e"
             ],
             [
              0.4444444444444444,
              "#bd3786"
             ],
             [
              0.5555555555555556,
              "#d8576b"
             ],
             [
              0.6666666666666666,
              "#ed7953"
             ],
             [
              0.7777777777777778,
              "#fb9f3a"
             ],
             [
              0.8888888888888888,
              "#fdca26"
             ],
             [
              1,
              "#f0f921"
             ]
            ],
            "type": "heatmapgl"
           }
          ],
          "histogram": [
           {
            "marker": {
             "pattern": {
              "fillmode": "overlay",
              "size": 10,
              "solidity": 0.2
             }
            },
            "type": "histogram"
           }
          ],
          "histogram2d": [
           {
            "colorbar": {
             "outlinewidth": 0,
             "ticks": ""
            },
            "colorscale": [
             [
              0,
              "#0d0887"
             ],
             [
              0.1111111111111111,
              "#46039f"
             ],
             [
              0.2222222222222222,
              "#7201a8"
             ],
             [
              0.3333333333333333,
              "#9c179e"
             ],
             [
              0.4444444444444444,
              "#bd3786"
             ],
             [
              0.5555555555555556,
              "#d8576b"
             ],
             [
              0.6666666666666666,
              "#ed7953"
             ],
             [
              0.7777777777777778,
              "#fb9f3a"
             ],
             [
              0.8888888888888888,
              "#fdca26"
             ],
             [
              1,
              "#f0f921"
             ]
            ],
            "type": "histogram2d"
           }
          ],
          "histogram2dcontour": [
           {
            "colorbar": {
             "outlinewidth": 0,
             "ticks": ""
            },
            "colorscale": [
             [
              0,
              "#0d0887"
             ],
             [
              0.1111111111111111,
              "#46039f"
             ],
             [
              0.2222222222222222,
              "#7201a8"
             ],
             [
              0.3333333333333333,
              "#9c179e"
             ],
             [
              0.4444444444444444,
              "#bd3786"
             ],
             [
              0.5555555555555556,
              "#d8576b"
             ],
             [
              0.6666666666666666,
              "#ed7953"
             ],
             [
              0.7777777777777778,
              "#fb9f3a"
             ],
             [
              0.8888888888888888,
              "#fdca26"
             ],
             [
              1,
              "#f0f921"
             ]
            ],
            "type": "histogram2dcontour"
           }
          ],
          "mesh3d": [
           {
            "colorbar": {
             "outlinewidth": 0,
             "ticks": ""
            },
            "type": "mesh3d"
           }
          ],
          "parcoords": [
           {
            "line": {
             "colorbar": {
              "outlinewidth": 0,
              "ticks": ""
             }
            },
            "type": "parcoords"
           }
          ],
          "pie": [
           {
            "automargin": true,
            "type": "pie"
           }
          ],
          "scatter": [
           {
            "marker": {
             "line": {
              "color": "#283442"
             }
            },
            "type": "scatter"
           }
          ],
          "scatter3d": [
           {
            "line": {
             "colorbar": {
              "outlinewidth": 0,
              "ticks": ""
             }
            },
            "marker": {
             "colorbar": {
              "outlinewidth": 0,
              "ticks": ""
             }
            },
            "type": "scatter3d"
           }
          ],
          "scattercarpet": [
           {
            "marker": {
             "colorbar": {
              "outlinewidth": 0,
              "ticks": ""
             }
            },
            "type": "scattercarpet"
           }
          ],
          "scattergeo": [
           {
            "marker": {
             "colorbar": {
              "outlinewidth": 0,
              "ticks": ""
             }
            },
            "type": "scattergeo"
           }
          ],
          "scattergl": [
           {
            "marker": {
             "line": {
              "color": "#283442"
             }
            },
            "type": "scattergl"
           }
          ],
          "scattermapbox": [
           {
            "marker": {
             "colorbar": {
              "outlinewidth": 0,
              "ticks": ""
             }
            },
            "type": "scattermapbox"
           }
          ],
          "scatterpolar": [
           {
            "marker": {
             "colorbar": {
              "outlinewidth": 0,
              "ticks": ""
             }
            },
            "type": "scatterpolar"
           }
          ],
          "scatterpolargl": [
           {
            "marker": {
             "colorbar": {
              "outlinewidth": 0,
              "ticks": ""
             }
            },
            "type": "scatterpolargl"
           }
          ],
          "scatterternary": [
           {
            "marker": {
             "colorbar": {
              "outlinewidth": 0,
              "ticks": ""
             }
            },
            "type": "scatterternary"
           }
          ],
          "surface": [
           {
            "colorbar": {
             "outlinewidth": 0,
             "ticks": ""
            },
            "colorscale": [
             [
              0,
              "#0d0887"
             ],
             [
              0.1111111111111111,
              "#46039f"
             ],
             [
              0.2222222222222222,
              "#7201a8"
             ],
             [
              0.3333333333333333,
              "#9c179e"
             ],
             [
              0.4444444444444444,
              "#bd3786"
             ],
             [
              0.5555555555555556,
              "#d8576b"
             ],
             [
              0.6666666666666666,
              "#ed7953"
             ],
             [
              0.7777777777777778,
              "#fb9f3a"
             ],
             [
              0.8888888888888888,
              "#fdca26"
             ],
             [
              1,
              "#f0f921"
             ]
            ],
            "type": "surface"
           }
          ],
          "table": [
           {
            "cells": {
             "fill": {
              "color": "#506784"
             },
             "line": {
              "color": "rgb(17,17,17)"
             }
            },
            "header": {
             "fill": {
              "color": "#2a3f5f"
             },
             "line": {
              "color": "rgb(17,17,17)"
             }
            },
            "type": "table"
           }
          ]
         },
         "layout": {
          "annotationdefaults": {
           "arrowcolor": "#f2f5fa",
           "arrowhead": 0,
           "arrowwidth": 1
          },
          "autotypenumbers": "strict",
          "coloraxis": {
           "colorbar": {
            "outlinewidth": 0,
            "ticks": ""
           }
          },
          "colorscale": {
           "diverging": [
            [
             0,
             "#8e0152"
            ],
            [
             0.1,
             "#c51b7d"
            ],
            [
             0.2,
             "#de77ae"
            ],
            [
             0.3,
             "#f1b6da"
            ],
            [
             0.4,
             "#fde0ef"
            ],
            [
             0.5,
             "#f7f7f7"
            ],
            [
             0.6,
             "#e6f5d0"
            ],
            [
             0.7,
             "#b8e186"
            ],
            [
             0.8,
             "#7fbc41"
            ],
            [
             0.9,
             "#4d9221"
            ],
            [
             1,
             "#276419"
            ]
           ],
           "sequential": [
            [
             0,
             "#0d0887"
            ],
            [
             0.1111111111111111,
             "#46039f"
            ],
            [
             0.2222222222222222,
             "#7201a8"
            ],
            [
             0.3333333333333333,
             "#9c179e"
            ],
            [
             0.4444444444444444,
             "#bd3786"
            ],
            [
             0.5555555555555556,
             "#d8576b"
            ],
            [
             0.6666666666666666,
             "#ed7953"
            ],
            [
             0.7777777777777778,
             "#fb9f3a"
            ],
            [
             0.8888888888888888,
             "#fdca26"
            ],
            [
             1,
             "#f0f921"
            ]
           ],
           "sequentialminus": [
            [
             0,
             "#0d0887"
            ],
            [
             0.1111111111111111,
             "#46039f"
            ],
            [
             0.2222222222222222,
             "#7201a8"
            ],
            [
             0.3333333333333333,
             "#9c179e"
            ],
            [
             0.4444444444444444,
             "#bd3786"
            ],
            [
             0.5555555555555556,
             "#d8576b"
            ],
            [
             0.6666666666666666,
             "#ed7953"
            ],
            [
             0.7777777777777778,
             "#fb9f3a"
            ],
            [
             0.8888888888888888,
             "#fdca26"
            ],
            [
             1,
             "#f0f921"
            ]
           ]
          },
          "colorway": [
           "#636efa",
           "#EF553B",
           "#00cc96",
           "#ab63fa",
           "#FFA15A",
           "#19d3f3",
           "#FF6692",
           "#B6E880",
           "#FF97FF",
           "#FECB52"
          ],
          "font": {
           "color": "#f2f5fa"
          },
          "geo": {
           "bgcolor": "rgb(17,17,17)",
           "lakecolor": "rgb(17,17,17)",
           "landcolor": "rgb(17,17,17)",
           "showlakes": true,
           "showland": true,
           "subunitcolor": "#506784"
          },
          "hoverlabel": {
           "align": "left"
          },
          "hovermode": "closest",
          "mapbox": {
           "style": "dark"
          },
          "paper_bgcolor": "rgb(17,17,17)",
          "plot_bgcolor": "rgb(17,17,17)",
          "polar": {
           "angularaxis": {
            "gridcolor": "#506784",
            "linecolor": "#506784",
            "ticks": ""
           },
           "bgcolor": "rgb(17,17,17)",
           "radialaxis": {
            "gridcolor": "#506784",
            "linecolor": "#506784",
            "ticks": ""
           }
          },
          "scene": {
           "xaxis": {
            "backgroundcolor": "rgb(17,17,17)",
            "gridcolor": "#506784",
            "gridwidth": 2,
            "linecolor": "#506784",
            "showbackground": true,
            "ticks": "",
            "zerolinecolor": "#C8D4E3"
           },
           "yaxis": {
            "backgroundcolor": "rgb(17,17,17)",
            "gridcolor": "#506784",
            "gridwidth": 2,
            "linecolor": "#506784",
            "showbackground": true,
            "ticks": "",
            "zerolinecolor": "#C8D4E3"
           },
           "zaxis": {
            "backgroundcolor": "rgb(17,17,17)",
            "gridcolor": "#506784",
            "gridwidth": 2,
            "linecolor": "#506784",
            "showbackground": true,
            "ticks": "",
            "zerolinecolor": "#C8D4E3"
           }
          },
          "shapedefaults": {
           "line": {
            "color": "#f2f5fa"
           }
          },
          "sliderdefaults": {
           "bgcolor": "#C8D4E3",
           "bordercolor": "rgb(17,17,17)",
           "borderwidth": 1,
           "tickwidth": 0
          },
          "ternary": {
           "aaxis": {
            "gridcolor": "#506784",
            "linecolor": "#506784",
            "ticks": ""
           },
           "baxis": {
            "gridcolor": "#506784",
            "linecolor": "#506784",
            "ticks": ""
           },
           "bgcolor": "rgb(17,17,17)",
           "caxis": {
            "gridcolor": "#506784",
            "linecolor": "#506784",
            "ticks": ""
           }
          },
          "title": {
           "x": 0.05
          },
          "updatemenudefaults": {
           "bgcolor": "#506784",
           "borderwidth": 0
          },
          "xaxis": {
           "automargin": true,
           "gridcolor": "#283442",
           "linecolor": "#506784",
           "ticks": "",
           "title": {
            "standoff": 15
           },
           "zerolinecolor": "#283442",
           "zerolinewidth": 2
          },
          "yaxis": {
           "automargin": true,
           "gridcolor": "#283442",
           "linecolor": "#506784",
           "ticks": "",
           "title": {
            "standoff": 15
           },
           "zerolinecolor": "#283442",
           "zerolinewidth": 2
          }
         }
        },
        "xaxis": {
         "anchor": "y",
         "domain": [
          0,
          1
         ],
         "title": {
          "text": ""
         }
        },
        "yaxis": {
         "anchor": "x",
         "domain": [
          0,
          1
         ],
         "title": {
          "text": "IPC"
         }
        }
       }
      }
     },
     "metadata": {},
     "output_type": "display_data"
    }
   ],
   "source": [
    "# Vemos como se distribuyen los datos  \n",
    "fig= px.line(ipc, x=ipc.index, y=' Nacional ',template=\"plotly_dark\",\n",
    "             labels={\"Periodo\":\"\",\" Nacional \":\"IPC\"})\n",
    "annotations = []\n",
    "\n",
    "# Source\n",
    "annotations.append(dict(xref='paper', yref='paper', x=0.5, y=-0.1,\n",
    "                            xanchor='center', yanchor='top',\n",
    "                            text='Fuente: INDEC',\n",
    "                            font=dict(family='Arial',\n",
    "                                        size=12,\n",
    "                                        color='rgb(150,150,150)'),\n",
    "                            showarrow=False))\n",
    "fig.update_layout(annotations=annotations)\n",
    "\n",
    "fig.show()"
   ]
  },
  {
   "attachments": {},
   "cell_type": "markdown",
   "metadata": {},
   "source": [
    "Sirve para comprobar si una serie temporal tiene una raíz unitaria, es decir, si NO muestra una regresión hacia la media (tiene una tendencia o no).\n",
    "\n",
    "**¿Cuáles son nuestras hipótesis?**\n",
    "*   $H_{0}$: tiene una raíz unitaria (serie no estacionaria).\n",
    "*   $H_{1}$: no tiene una raíz unitaria (serie estacionaria). "
   ]
  },
  {
   "cell_type": "code",
   "execution_count": 15,
   "metadata": {},
   "outputs": [
    {
     "name": "stdout",
     "output_type": "stream",
     "text": [
      "stat=-1.073, p=0.726\n",
      "Probablemente no estacionaria\n"
     ]
    }
   ],
   "source": [
    "stat, p, lags, obs, crit, t = adfuller(ipc.values)\n",
    "print('stat=%.3f, p=%.3f' % (stat, p))\n",
    "if p > 0.05:\n",
    "\tprint('Probablemente no estacionaria')\n",
    "else:\n",
    "\tprint('Probablemente estacionaria')"
   ]
  },
  {
   "cell_type": "code",
   "execution_count": 15,
   "metadata": {},
   "outputs": [],
   "source": [
    "# evaluate an ARIMA model for a given order (p,d,q)\n",
    "def evaluate_arima_model(X, arima_order):\n",
    " # prepare training dataset\n",
    " train_size = int(len(X) * 0.66)\n",
    " train, test = X[0:train_size], X[train_size:]\n",
    " history = [x for x in train]\n",
    " # make predictions\n",
    " predictions = list()\n",
    " for t in range(len(test)):\n",
    "   model = ARIMA(history, order=arima_order)\n",
    "   model_fit = model.fit()\n",
    "   yhat = model_fit.forecast()[0]\n",
    "   predictions.append(yhat)\n",
    "   history.append(test[t])\n",
    " # calculate out of sample error\n",
    " rmse = sqrt(mean_squared_error(test, predictions))\n",
    " return rmse"
   ]
  },
  {
   "cell_type": "code",
   "execution_count": 16,
   "metadata": {},
   "outputs": [],
   "source": [
    "# evaluate combinations of p, d and q values for an ARIMA model\n",
    "def evaluate_models(dataset, p_values, d_values, q_values):\n",
    " dataset = dataset.astype('float32')\n",
    " best_score, best_cfg = float(\"inf\"), None\n",
    " for p in p_values:\n",
    "   for d in d_values:\n",
    "     for q in q_values:\n",
    "       order = (p,d,q)\n",
    "       try:\n",
    "         rmse = evaluate_arima_model(dataset, order)\n",
    "         if rmse < best_score:\n",
    "           best_score, best_cfg = rmse, order\n",
    "           print('ARIMA%s RMSE=%.3f' % (order,rmse))\n",
    "       except:\n",
    "         continue\n",
    "         print('Best ARIMA%s RMSE=%.3f' % (best_cfg, best_score))"
   ]
  },
  {
   "cell_type": "code",
   "execution_count": 17,
   "metadata": {},
   "outputs": [
    {
     "name": "stdout",
     "output_type": "stream",
     "text": [
      "ARIMA(0, 0, 0) RMSE=2.170\n",
      "ARIMA(0, 0, 1) RMSE=1.496\n",
      "ARIMA(0, 0, 2) RMSE=1.349\n",
      "ARIMA(0, 1, 0) RMSE=1.006\n",
      "ARIMA(0, 1, 1) RMSE=0.975\n",
      "ARIMA(0, 1, 2) RMSE=0.969\n",
      "ARIMA(1, 1, 2) RMSE=0.963\n",
      "ARIMA(8, 1, 0) RMSE=0.962\n"
     ]
    }
   ],
   "source": [
    "# evaluate parameters\n",
    "p_values = [0, 1, 2, 4, 6, 8, 10]\n",
    "d_values = range(0, 3)\n",
    "q_values = range(0, 3)\n",
    "warnings.filterwarnings(\"ignore\")\n",
    "evaluate_models(ipc.values, p_values, d_values, q_values)"
   ]
  },
  {
   "cell_type": "code",
   "execution_count": 18,
   "metadata": {},
   "outputs": [
    {
     "name": "stdout",
     "output_type": "stream",
     "text": [
      "                               SARIMAX Results                                \n",
      "==============================================================================\n",
      "Dep. Variable:                      y   No. Observations:                  217\n",
      "Model:                 ARIMA(8, 1, 1)   Log Likelihood                -228.610\n",
      "Date:                Tue, 28 Feb 2023   AIC                            477.221\n",
      "Time:                        14:38:43   BIC                            510.974\n",
      "Sample:                             0   HQIC                           490.857\n",
      "                                - 217                                         \n",
      "Covariance Type:                  opg                                         \n",
      "==============================================================================\n",
      "                 coef    std err          z      P>|z|      [0.025      0.975]\n",
      "------------------------------------------------------------------------------\n",
      "ar.L1          0.3610      0.177      2.041      0.041       0.014       0.708\n",
      "ar.L2          0.0532      0.072      0.734      0.463      -0.089       0.195\n",
      "ar.L3          0.0014      0.076      0.019      0.985      -0.148       0.151\n",
      "ar.L4         -0.1178      0.050     -2.374      0.018      -0.215      -0.021\n",
      "ar.L5         -0.0459      0.075     -0.611      0.541      -0.193       0.101\n",
      "ar.L6          0.2262      0.077      2.956      0.003       0.076       0.376\n",
      "ar.L7         -0.1822      0.083     -2.184      0.029      -0.346      -0.019\n",
      "ar.L8         -0.1696      0.074     -2.301      0.021      -0.314      -0.025\n",
      "ma.L1         -0.7200      0.171     -4.210      0.000      -1.055      -0.385\n",
      "sigma2         0.4836      0.028     17.098      0.000       0.428       0.539\n",
      "===================================================================================\n",
      "Ljung-Box (L1) (Q):                   0.01   Jarque-Bera (JB):               308.00\n",
      "Prob(Q):                              0.92   Prob(JB):                         0.00\n",
      "Heteroskedasticity (H):              10.85   Skew:                             1.14\n",
      "Prob(H) (two-sided):                  0.00   Kurtosis:                         8.38\n",
      "===================================================================================\n",
      "\n",
      "Warnings:\n",
      "[1] Covariance matrix calculated using the outer product of gradients (complex-step).\n"
     ]
    }
   ],
   "source": [
    "# Ajustamos modelo a datos\n",
    "model = ARIMA(ipc.values, order=(8,1,1))\n",
    "model_fit = model.fit()\n",
    "# Resumen del entrenamiento\n",
    "print(model_fit.summary())"
   ]
  },
  {
   "cell_type": "code",
   "execution_count": 19,
   "metadata": {},
   "outputs": [
    {
     "data": {
      "image/png": "[encoded data removed]",
      "text/plain": [
       "<Figure size 2000x1000 with 4 Axes>"
      ]
     },
     "metadata": {},
     "output_type": "display_data"
    }
   ],
   "source": [
    "model_fit.plot_diagnostics(figsize=(20,10))\n",
    "plt.show()"
   ]
  },
  {
   "cell_type": "code",
   "execution_count": 20,
   "metadata": {},
   "outputs": [
    {
     "data": {
      "image/png": "[encoded data removed]",
      "text/plain": [
       "<Figure size 640x480 with 1 Axes>"
      ]
     },
     "metadata": {},
     "output_type": "display_data"
    }
   ],
   "source": [
    "# Tomamos predicciones\n",
    "preds = model_fit.predict()\n",
    "# Creamos figura\n",
    "fig, ax = plt.subplots()\n",
    "ax.plot(range(len(ipc)), ipc.values, 'b-')\n",
    "ax.plot(range(1,len(ipc)), preds[1:], 'r--')\n",
    "plt.legend(['Serie temporal', 'Predicciones'])\n",
    "plt.show()"
   ]
  },
  {
   "cell_type": "code",
   "execution_count": 21,
   "metadata": {},
   "outputs": [
    {
     "name": "stdout",
     "output_type": "stream",
     "text": [
      "Predicho=1.973800, Valor real=1.900000\n",
      "Predicho=3.037092, Valor real=1.600000\n",
      "Predicho=2.189122, Valor real=1.600000\n",
      "Predicho=1.375653, Valor real=2.100000\n",
      "Predicho=2.199072, Valor real=2.400000\n",
      "Predicho=3.098038, Valor real=2.700000\n",
      "Predicho=2.682737, Valor real=1.400000\n",
      "Predicho=1.931754, Valor real=1.200000\n",
      "Predicho=1.448371, Valor real=1.700000\n",
      "Predicho=1.828754, Valor real=1.400000\n",
      "Predicho=1.823543, Valor real=1.900000\n",
      "Predicho=2.006042, Valor real=1.500000\n",
      "Predicho=1.575810, Valor real=1.400000\n",
      "Predicho=1.597886, Valor real=3.100000\n",
      "Predicho=2.641240, Valor real=1.800000\n",
      "Predicho=2.229835, Valor real=2.400000\n",
      "Predicho=2.271092, Valor real=2.300000\n",
      "Predicho=2.097554, Valor real=2.700000\n",
      "Predicho=2.482139, Valor real=2.100000\n",
      "Predicho=2.475317, Valor real=3.700000\n",
      "Predicho=2.605487, Valor real=3.100000\n",
      "Predicho=3.152324, Valor real=3.900000\n",
      "Predicho=3.255587, Valor real=6.500000\n",
      "Predicho=5.184147, Valor real=5.400000\n",
      "Predicho=5.419160, Valor real=3.200000\n",
      "Predicho=3.918361, Valor real=2.800000\n",
      "Predicho=2.475291, Valor real=2.900000\n",
      "Predicho=2.847934, Valor real=3.800000\n",
      "Predicho=4.248514, Valor real=4.700000\n",
      "Predicho=4.069841, Valor real=3.400000\n",
      "Predicho=3.244025, Valor real=3.100000\n",
      "Predicho=3.648673, Valor real=2.700000\n",
      "Predicho=3.259926, Valor real=2.200000\n",
      "Predicho=2.713184, Valor real=4.000000\n",
      "Predicho=3.730113, Valor real=5.900000\n",
      "Predicho=4.842939, Valor real=3.300000\n",
      "Predicho=3.544914, Valor real=4.300000\n",
      "Predicho=3.656485, Valor real=3.700000\n",
      "Predicho=3.414105, Valor real=2.300000\n",
      "Predicho=3.426515, Valor real=2.000000\n",
      "Predicho=2.879844, Valor real=3.300000\n",
      "Predicho=2.488022, Valor real=1.500000\n",
      "Predicho=2.600498, Valor real=1.500000\n",
      "Predicho=1.985294, Valor real=2.200000\n",
      "Predicho=1.921375, Valor real=1.900000\n",
      "Predicho=2.190688, Valor real=2.700000\n",
      "Predicho=3.234301, Valor real=2.800000\n",
      "Predicho=2.438476, Valor real=3.800000\n",
      "Predicho=3.441854, Valor real=3.200000\n",
      "Predicho=3.462407, Valor real=4.000000\n",
      "Predicho=3.596516, Valor real=4.000000\n",
      "Predicho=3.862957, Valor real=3.600000\n",
      "Predicho=3.545328, Valor real=4.800000\n",
      "Predicho=4.346874, Valor real=4.100000\n",
      "Predicho=3.752926, Valor real=3.300000\n",
      "Predicho=3.499843, Valor real=3.200000\n",
      "Predicho=3.095745, Valor real=3.000000\n",
      "Predicho=2.828534, Valor real=2.500000\n",
      "Predicho=3.021639, Valor real=3.500000\n",
      "Predicho=3.172264, Valor real=3.500000\n",
      "Predicho=3.160309, Valor real=2.500000\n",
      "Predicho=2.857106, Valor real=3.800000\n",
      "Predicho=3.410332, Valor real=3.900000\n",
      "Predicho=3.522166, Valor real=4.700000\n",
      "Predicho=4.581109, Valor real=6.700000\n",
      "Predicho=5.715808, Valor real=6.000000\n",
      "Predicho=5.228319, Valor real=5.100000\n",
      "Predicho=5.138766, Valor real=5.300000\n",
      "Predicho=4.709802, Valor real=7.400000\n",
      "Predicho=6.305134, Valor real=7.000000\n",
      "Predicho=6.995194, Valor real=6.200000\n",
      "Predicho=5.711463, Valor real=6.300000\n",
      "Predicho=5.282267, Valor real=4.900000\n",
      "Predicho=4.894750, Valor real=5.100000\n",
      "Test RMSE: 1.388\n",
      "Test MAPE: 0.521\n"
     ]
    },
    {
     "data": {
      "image/png": "[encoded data removed]",
      "text/plain": [
       "<Figure size 640x480 with 1 Axes>"
      ]
     },
     "metadata": {},
     "output_type": "display_data"
    }
   ],
   "source": [
    "# Partimos datos para asegurar una validación final en datos test\n",
    "X = ipc.values\n",
    "size = int(len(X) * 0.66)\n",
    "train, test = X[0:size], X[size:len(X)]\n",
    "history = [x for x in train]\n",
    "predictions = list()\n",
    "# Walk-forward validation\n",
    "for t in range(len(test)):\n",
    "\tmodel = ARIMA(history, order=(8,1,1))\n",
    "\tmodel_fit = model.fit()\n",
    "\toutput = model_fit.forecast()\n",
    "\tyhat = output[0]\n",
    "\tpredictions.append(yhat)\n",
    "\tobs = test[t]\n",
    "\thistory.append(obs)\n",
    "\tprint('Predicho=%f, Valor real=%f' % (yhat, obs))\n",
    "# Evaluamos los resultados\n",
    "metric = lambda x,y : np.sqrt(np.mean((x-y)**2))\n",
    "rmse = np.sqrt(metric(test, predictions))\n",
    "mape = np.mean(np.abs(predictions - test)/np.abs(test))  # MAPE\n",
    "print('Test RMSE: %.3f' % rmse)\n",
    "print(\"Test MAPE: %.3f\" % mape)\n",
    "# Dibujamos valor real y predicho\n",
    "plt.plot(test)\n",
    "plt.plot(predictions, color='red',)\n",
    "plt.legend([\"Test\",\"Prediction\"])\n",
    "plt.show()"
   ]
  },
  {
   "cell_type": "code",
   "execution_count": 22,
   "metadata": {},
   "outputs": [
    {
     "data": {
      "image/png": "[encoded data removed]",
      "text/plain": [
       "<Figure size 640x480 with 1 Axes>"
      ]
     },
     "metadata": {},
     "output_type": "display_data"
    },
    {
     "name": "stdout",
     "output_type": "stream",
     "text": [
      "[5.52277077 5.26825204 4.90362904 5.0569651  4.81403047 4.96768265\n",
      " 5.4474125  5.46244198 5.37474489 5.48295512 5.43303108 5.44979314\n",
      " 5.58631082]\n"
     ]
    }
   ],
   "source": [
    "# pronostico\n",
    "pasos = 13\n",
    "start=len(ipc)\n",
    "end=start + pasos-1\n",
    "fc = model_fit.predict(start=start,end=end)\n",
    "index_of_fc = np.arange(len(ipc.values), len(ipc.values)+pasos)\n",
    "\n",
    "# make series for plotting purpose\n",
    "fc_series = pd.Series(fc, index=index_of_fc)\n",
    "# lower_series = pd.Series(confint[:, 0], index=index_of_fc)\n",
    "# upper_series = pd.Series(confint[:, 1], index=index_of_fc)\n",
    "\n",
    "# Plot\n",
    "plt.plot(ipc.values)\n",
    "plt.plot(fc_series, color='darkgreen')\n",
    "# plt.fill_between(lower_series.index, \n",
    "#                  lower_series, \n",
    "#                  upper_series, \n",
    "#                  color='k', alpha=.15)\n",
    "\n",
    "plt.title(\"Pronostico final (12 meses)\")\n",
    "plt.legend([\"Serie original\",\"Predicción\"])\n",
    "plt.show()\n",
    "\n",
    "# Mostramos los valores\n",
    "print(fc)"
   ]
  }
 ],
 "metadata": {
  "kernelspec": {
   "display_name": "venv_analytics",
   "language": "python",
   "name": "python3"
  },
  "language_info": {
   "codemirror_mode": {
    "name": "ipython",
    "version": 3
   },
   "file_extension": ".py",
   "mimetype": "text/x-python",
   "name": "python",
   "nbconvert_exporter": "python",
   "pygments_lexer": "ipython3",
   "version": "3.9.13"
  },
  "orig_nbformat": 4,
  "vscode": {
   "interpreter": {
    "hash": "8646a6fbe996fccdeff2629a244ee7d414ffeef8aae0e5fffba0b9deb049efb9"
   }
  }
 },
 "nbformat": 4,
 "nbformat_minor": 2
}
