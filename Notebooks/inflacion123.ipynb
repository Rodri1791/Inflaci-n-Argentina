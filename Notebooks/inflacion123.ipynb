{
 "cells": [
  {
   "cell_type": "code",
   "execution_count": null,
   "metadata": {},
   "outputs": [],
   "source": [
    "# Cargo libreria\n",
    "import pandas as pd"
   ]
  },
  {
   "cell_type": "code",
   "execution_count": null,
   "metadata": {},
   "outputs": [],
   "source": [
    "# Cargo el CSV\n",
    "inflacion = pd.read_csv(r\"indice-precios-al-consumidor-nivel-general-base-diciembre-2016-mensual.csv\",parse_dates=['indice_tiempo'] )"
   ]
  },
  {
   "cell_type": "code",
   "execution_count": null,
   "metadata": {},
   "outputs": [],
   "source": [
    "inflacion.columns"
   ]
  },
  {
   "cell_type": "code",
   "execution_count": null,
   "metadata": {},
   "outputs": [],
   "source": [
    "# Columnas a eliminar\n",
    "columns=['ipc_ng_nacional','ipc_ng_nacional_tasa_variacion_mensual',\n",
    "       'ipc_ng_gba_tasa_variacion_mensual',\n",
    "       'ipc_ng_pampeana_tasa_variacion_mensual',\n",
    "       'ipc_ng_nea_tasa_variacion_mensual',\n",
    "       'ipc_ng_noa_tasa_variacion_mensual',\n",
    "       'ipc_ng_cuyo_tasa_variacion_mensual',\n",
    "       'ipc_ng_patagonia_tasa_variacion_mensual',\n",
    "       'ipc_ng_nacional_tasa_variacion_acumulada_dic_ano_anterior',\n",
    "       'ipc_ng_gba_tasa_variacion_acumulada_dic_ano_anterior',\n",
    "       'ipc_ng_pampeana_tasa_variacion_acumulada_dic_ano_anterior',\n",
    "       'ipc_ng_nea_tasa_variacion_acumulada_dic_ano_anterior',\n",
    "       'ipc_ng_noa_tasa_variacion_acumulada_dic_ano_anterior',\n",
    "       'ipc_ng_cuyo_tasa_variacion_acumulada_dic_ano_anterior',\n",
    "       'ipc_ng_patagonia_tasa_variacion_acumulada_dic_ano_anterior']"
   ]
  },
  {
   "cell_type": "code",
   "execution_count": null,
   "metadata": {},
   "outputs": [],
   "source": [
    "# Eliminamos las columnas\n",
    "inflacion.drop(columns,axis=1,inplace=True)"
   ]
  },
  {
   "cell_type": "code",
   "execution_count": null,
   "metadata": {},
   "outputs": [],
   "source": [
    "inflacion.head()"
   ]
  },
  {
   "cell_type": "code",
   "execution_count": null,
   "metadata": {},
   "outputs": [],
   "source": [
    "# Renombro las columnas\n",
    "inflacion =inflacion.rename({\"ipc_ng_gba\":\"GBA\",\"ipc_ng_pampeana\":\"Pampeana\",\"ipc_ng_nea\":\"NEA\",\n",
    "                            \"ipc_ng_noa\":\"NOA\",\"ipc_ng_cuyo\":\"Cuyo\",\"ipc_ng_patagonia\":\"Patagonia\"}, axis=1)"
   ]
  },
  {
   "cell_type": "code",
   "execution_count": null,
   "metadata": {},
   "outputs": [],
   "source": [
    "inflacion[[\"2017\",\"2018\"]].transpose()"
   ]
  },
  {
   "cell_type": "code",
   "execution_count": null,
   "metadata": {},
   "outputs": [],
   "source": [
    "inflacion = inflacion.transpose() #Transpongo"
   ]
  },
  {
   "cell_type": "code",
   "execution_count": null,
   "metadata": {},
   "outputs": [],
   "source": [
    "inflacion.head()"
   ]
  },
  {
   "cell_type": "code",
   "execution_count": null,
   "metadata": {},
   "outputs": [],
   "source": [
    "inflacion.columns"
   ]
  },
  {
   "cell_type": "code",
   "execution_count": null,
   "metadata": {},
   "outputs": [],
   "source": [
    "drop = [1,2,3,4,5,6,7,8,9,10,11,13,14,15,16,17,18,19,20,21,22,23,25,26,27,28,29,30,31,32,33,34,35,37,38,39,40,41,42,43,44,45,46,47,49,50,51,52,53,54,55,56,57,58,59,61,62,63,64,65,66,67,68,69,70,71]"
   ]
  },
  {
   "cell_type": "code",
   "execution_count": null,
   "metadata": {},
   "outputs": [],
   "source": [
    "inflacion.drop(drop,axis=1,inplace=True) #Borro las columnas que no nos sirven"
   ]
  },
  {
   "cell_type": "code",
   "execution_count": null,
   "metadata": {},
   "outputs": [],
   "source": [
    "# Cambio nombres de las columnas\n",
    "inflacion.columns = [\"2016\",\"2017\",\"2018\",\"2019\",\"2020\",\"2021\",\"2022\"]\n",
    "inflacion.head()"
   ]
  },
  {
   "cell_type": "code",
   "execution_count": null,
   "metadata": {},
   "outputs": [],
   "source": [
    "inflacion.drop(\"indice_tiempo\",inplace=True) # Borro la fila sobrante"
   ]
  },
  {
   "cell_type": "code",
   "execution_count": null,
   "metadata": {},
   "outputs": [],
   "source": [
    "inflacion.head()"
   ]
  },
  {
   "cell_type": "code",
   "execution_count": null,
   "metadata": {},
   "outputs": [],
   "source": [
    "inflacion = inflacion - 100"
   ]
  },
  {
   "cell_type": "code",
   "execution_count": null,
   "metadata": {},
   "outputs": [],
   "source": [
    "inflacion.columns"
   ]
  },
  {
   "cell_type": "code",
   "execution_count": null,
   "metadata": {},
   "outputs": [],
   "source": [
    "inflacion.head()"
   ]
  },
  {
   "cell_type": "code",
   "execution_count": null,
   "metadata": {},
   "outputs": [],
   "source": [
    "inflacion.loc[\"Patagonia\"]"
   ]
  },
  {
   "cell_type": "code",
   "execution_count": null,
   "metadata": {},
   "outputs": [],
   "source": [
    "inflacion.index"
   ]
  },
  {
   "cell_type": "code",
   "execution_count": null,
   "metadata": {},
   "outputs": [],
   "source": [
    "inflacion.drop(\"2016\",axis=1,inplace=True) #Borro el 2016"
   ]
  },
  {
   "cell_type": "code",
   "execution_count": null,
   "metadata": {},
   "outputs": [],
   "source": [
    "inflacion[\"2018\"]"
   ]
  },
  {
   "cell_type": "code",
   "execution_count": null,
   "metadata": {},
   "outputs": [],
   "source": [
    "inflacion.to_csv(r\"inflacionTT.csv\", index_label=\"Regiones\") #Guardo el csv con los cambios"
   ]
  }
 ],
 "metadata": {
  "kernelspec": {
   "display_name": "venv_analytics",
   "language": "python",
   "name": "python3"
  },
  "language_info": {
   "name": "python",
   "version": "3.9.13"
  },
  "orig_nbformat": 4,
  "vscode": {
   "interpreter": {
    "hash": "8646a6fbe996fccdeff2629a244ee7d414ffeef8aae0e5fffba0b9deb049efb9"
   }
  }
 },
 "nbformat": 4,
 "nbformat_minor": 2
}
